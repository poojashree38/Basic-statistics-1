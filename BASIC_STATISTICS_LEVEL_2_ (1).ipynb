{
  "nbformat": 4,
  "nbformat_minor": 0,
  "metadata": {
    "colab": {
      "provenance": []
    },
    "kernelspec": {
      "name": "python3",
      "display_name": "Python 3"
    },
    "language_info": {
      "name": "python"
    }
  },
  "cells": [
    {
      "cell_type": "markdown",
      "source": [
        "**SET 1**"
      ],
      "metadata": {
        "id": "x5JmiKAZmC5L"
      }
    },
    {
      "cell_type": "code",
      "execution_count": 19,
      "metadata": {
        "id": "b8kQSORqVC_k"
      },
      "outputs": [],
      "source": [
        "import pandas as pd\n",
        "import numpy as np\n",
        "import seaborn as sns\n",
        "import scipy.stats as stats\n",
        "import statsmodels.api as smf\n",
        "import warnings\n",
        "warnings.filterwarnings('ignore')\n"
      ]
    },
    {
      "cell_type": "code",
      "source": [
        "name_of_company=pd.Series(['Allied Signal',' Bankers Trust','General Mills','ITT Industries','J.P.Morgan & Co','Lehman Brothers','Marriott','MCI','Merrill Lynch','Microsoft','Morgan Stanley','Sun Microsystems','Travelers','US Airways','Warner-Lambert'])\n",
        "measure_x=pd.Series([24.23,25.53,25.41,24.14,29.62,28.25,25.81,24.39,40.26,32.95,91.36,25.99,39.42,26.71,35.00])\n"
      ],
      "metadata": {
        "id": "1Kb_xO_mVPb5"
      },
      "execution_count": 20,
      "outputs": []
    },
    {
      "cell_type": "code",
      "source": [
        "measure_x.info()"
      ],
      "metadata": {
        "colab": {
          "base_uri": "https://localhost:8080/"
        },
        "id": "Coj_BpDmVUzX",
        "outputId": "0c2a9aff-9e98-4129-fc8c-89c99bfb4525"
      },
      "execution_count": 21,
      "outputs": [
        {
          "output_type": "stream",
          "name": "stdout",
          "text": [
            "<class 'pandas.core.series.Series'>\n",
            "RangeIndex: 15 entries, 0 to 14\n",
            "Series name: None\n",
            "Non-Null Count  Dtype  \n",
            "--------------  -----  \n",
            "15 non-null     float64\n",
            "dtypes: float64(1)\n",
            "memory usage: 248.0 bytes\n"
          ]
        }
      ]
    },
    {
      "cell_type": "code",
      "source": [
        "#Finding outliers\n",
        "sns.boxplot(measure_x,orient='h')\n",
        "#From boxplot we can see Outlier is present at 90% around.So Morgan Stanley with 91.36% is the Outlier."
      ],
      "metadata": {
        "colab": {
          "base_uri": "https://localhost:8080/",
          "height": 447
        },
        "id": "_aRIk_VcVaZo",
        "outputId": "f3c7c4f0-16f1-4bc9-fe0c-d4649a7a4ae9"
      },
      "execution_count": 22,
      "outputs": [
        {
          "output_type": "execute_result",
          "data": {
            "text/plain": [
              "<Axes: >"
            ]
          },
          "metadata": {},
          "execution_count": 22
        },
        {
          "output_type": "display_data",
          "data": {
            "text/plain": [
              "<Figure size 640x480 with 1 Axes>"
            ],
            "image/png": "[encoded data removed]"
          },
          "metadata": {}
        }
      ]
    },
    {
      "cell_type": "code",
      "source": [
        "#Finding Mean(𝜇),Standard Deviation(𝜎),Variance(𝜎2)\n",
        "#Mean(𝜇)\n",
        "print(\"Mean(𝜇)=\",measure_x.mean())\n",
        "print(\"Standard Deviation(𝜎)=\",measure_x.std())\n",
        "print(\"Variance(𝜎2)=\",measure_x.var())"
      ],
      "metadata": {
        "colab": {
          "base_uri": "https://localhost:8080/"
        },
        "id": "K29tCb6YVeb-",
        "outputId": "cfae0630-e8c4-496b-d8e8-36a657f46fcf"
      },
      "execution_count": 23,
      "outputs": [
        {
          "output_type": "stream",
          "name": "stdout",
          "text": [
            "Mean(𝜇)= 33.27133333333333\n",
            "Standard Deviation(𝜎)= 16.945400921222028\n",
            "Variance(𝜎2)= 287.1466123809524\n"
          ]
        }
      ]
    },
    {
      "cell_type": "code",
      "source": [],
      "metadata": {
        "id": "Ng5RRE80VjY1"
      },
      "execution_count": 23,
      "outputs": []
    },
    {
      "cell_type": "markdown",
      "source": [
        "**SET-2**"
      ],
      "metadata": {
        "id": "SwEMLetzdWlV"
      }
    },
    {
      "cell_type": "markdown",
      "source": [
        "1.The time required for servicing transmissions is normally distributed with (µ) = 45 minutes and (σ) = 8 minutes. The service manager plans to have work begin on the transmission of a customer’s car 10 minutes after the car is dropped off and the customer is told that the car will be ready within 1 hour from drop-off. What is the probability that the service manager cannot meet his commitment?"
      ],
      "metadata": {
        "id": "qdYScRvUdemD"
      }
    },
    {
      "cell_type": "code",
      "source": [
        "from scipy import stats\n",
        "from scipy.stats import norm\n",
        "import numpy as np"
      ],
      "metadata": {
        "id": "ET2D0HE2djpC"
      },
      "execution_count": 24,
      "outputs": []
    },
    {
      "cell_type": "code",
      "source": [
        "# Finding Z-Score at X=50; Z = (X - µ)/σ\n",
        "Z=(50-45)/8\n",
        "Z\n"
      ],
      "metadata": {
        "colab": {
          "base_uri": "https://localhost:8080/"
        },
        "id": "teiIviHvdkJV",
        "outputId": "5a8ac73d-ea3e-45be-b774-ef17be0f41f6"
      },
      "execution_count": 25,
      "outputs": [
        {
          "output_type": "execute_result",
          "data": {
            "text/plain": [
              "0.625"
            ]
          },
          "metadata": {},
          "execution_count": 25
        }
      ]
    },
    {
      "cell_type": "code",
      "source": [
        "# Finding probability P(X>50) = 1-stats.norm.cdf(z_score)\n",
        "round(1-stats.norm.cdf(0.625),3)*100"
      ],
      "metadata": {
        "colab": {
          "base_uri": "https://localhost:8080/"
        },
        "id": "fw_iPI7idpkL",
        "outputId": "971e9d12-48ca-4809-c960-350b99ae5345"
      },
      "execution_count": 26,
      "outputs": [
        {
          "output_type": "execute_result",
          "data": {
            "text/plain": [
              "26.6"
            ]
          },
          "metadata": {},
          "execution_count": 26
        }
      ]
    },
    {
      "cell_type": "markdown",
      "source": [
        "2.The current age (in years) of 400 clerical employees at an insurance claims processing center is normally distributed with mean µ = 38 and Standard deviation σ =6. For each statement below, please specify True/False. If false, briefly explain why. A. More employees at the processing center are older than 44 than between 38 and 44. B. A training program for employees under the age of 30 at the center would be expected to attract about 36 employees"
      ],
      "metadata": {
        "id": "pSNXZzMTdzbR"
      }
    },
    {
      "cell_type": "code",
      "source": [
        "# A. More employees at the processing center are older than 44 than between 38 and 44.\n",
        "\n",
        "# P(X>44); Employees older than 44 yrs of age\n",
        "round(1-stats.norm.cdf(44,38,6),3)*100"
      ],
      "metadata": {
        "colab": {
          "base_uri": "https://localhost:8080/"
        },
        "id": "pw61cPZqdtwf",
        "outputId": "460827ff-d94b-40ef-cadf-2598c3692ed3"
      },
      "execution_count": 27,
      "outputs": [
        {
          "output_type": "execute_result",
          "data": {
            "text/plain": [
              "15.9"
            ]
          },
          "metadata": {},
          "execution_count": 27
        }
      ]
    },
    {
      "cell_type": "code",
      "source": [
        "# P(38<X<44); Employees between 38 to 44 yrs of age\n",
        "round((stats.norm.cdf(44,38,6)-stats.norm.cdf(38,38,6)),3)*100"
      ],
      "metadata": {
        "colab": {
          "base_uri": "https://localhost:8080/"
        },
        "id": "9f99lRi4d5K-",
        "outputId": "29c92c91-7e91-4917-c132-79dadb143527"
      },
      "execution_count": 28,
      "outputs": [
        {
          "output_type": "execute_result",
          "data": {
            "text/plain": [
              "34.1"
            ]
          },
          "metadata": {},
          "execution_count": 28
        }
      ]
    },
    {
      "cell_type": "code",
      "source": [
        "# B. A training program for employees under the age of 30 at the center would be expected to attract about 36 employees.\n",
        "\n",
        "# P(X<30);Probability of employees under 30 yrs of age\n",
        "round(stats.norm.cdf(30,38,6),3)*100"
      ],
      "metadata": {
        "colab": {
          "base_uri": "https://localhost:8080/"
        },
        "id": "0Fri1bYsd71P",
        "outputId": "6a2f921d-b771-4906-f3de-6bdf5ae757e2"
      },
      "execution_count": 29,
      "outputs": [
        {
          "output_type": "execute_result",
          "data": {
            "text/plain": [
              "9.1"
            ]
          },
          "metadata": {},
          "execution_count": 29
        }
      ]
    },
    {
      "cell_type": "code",
      "source": [
        "\n",
        "# No. of employees attending training program from 400 employees. is given as N*P(X<30)\n",
        "400*stats.norm.cdf(30,38,6)"
      ],
      "metadata": {
        "colab": {
          "base_uri": "https://localhost:8080/"
        },
        "id": "txmZagpCd_sR",
        "outputId": "73810f60-f29b-4afd-8caf-8fbb2d8d3e59"
      },
      "execution_count": 30,
      "outputs": [
        {
          "output_type": "execute_result",
          "data": {
            "text/plain": [
              "36.484487890347154"
            ]
          },
          "metadata": {},
          "execution_count": 30
        }
      ]
    },
    {
      "cell_type": "markdown",
      "source": [
        "4.Let X ~ N(100, 202). Find two values, a and b, symmetric about the mean, such that the probability of the random variable taking a value between them is 0.99."
      ],
      "metadata": {
        "id": "CvGtqwubeHpA"
      }
    },
    {
      "cell_type": "code",
      "source": [
        "# Given\n",
        "mew = 100\n",
        "std = 20\n",
        "# p(a<x<b)\n",
        "#To Find =\n",
        "\"\"\" two values, a and b, symmetric about the mean, such that the\n",
        "probability of the random variable taking a value between them is 0.99\"\"\"\n",
        "# Solution\n",
        "\"\"\" From the above details,we have to exclude .005% area from each\n",
        "left and right tails. Hence, we want to find the .005th and the\n",
        ".995th percentiles Z score values\"\"\"\n",
        "\n",
        "# Z value for .005 percentiles\n",
        "z_005_ = np.round(stats.norm.ppf(0.005),4)\n",
        "z_005_\n",
        "\n",
        "# Z value for .99 percentiles\n",
        "z_99_ = np.round(stats.norm.ppf(0.995),4)\n",
        "z_99_\n",
        "\n",
        "#z = (x_bar - mew) / std\n",
        "#x_bar = (z*std) + mew\n",
        "a = np.round((z_005_*std) + mew,1)\n",
        "b = np.round((z_99_*std) + mew,1)\n",
        "print(\"\"\"The two values of a and b, symmetric about the mean,\n",
        "      are such that the probability of the random variable\n",
        "      taking a value between them is 0.99:\"\"\",a,b)"
      ],
      "metadata": {
        "colab": {
          "base_uri": "https://localhost:8080/"
        },
        "id": "4nfRjzQNeCiV",
        "outputId": "e0a7d32e-6bf4-424d-c92d-a42b3ebd569d"
      },
      "execution_count": 31,
      "outputs": [
        {
          "output_type": "stream",
          "name": "stdout",
          "text": [
            "The two values of a and b, symmetric about the mean,\n",
            "      are such that the probability of the random variable\n",
            "      taking a value between them is 0.99: 48.5 151.5\n"
          ]
        }
      ]
    },
    {
      "cell_type": "markdown",
      "source": [
        "5.Consider a company that has two different divisions. The annual profits from the two divisions are independent and have distributions Profit1 ~ N(5, 32) and Profit2 ~ N(7, 42) respectively. Both the profits are in Million Dollars. Answer the following questions about the total profit of the company in Rupees. Assume that $1 = Rs. 45 A.Specify a Rupee range (centered on the mean) such that it contains 95% probability for the annual profit of the company. B.Specify the 5th percentile of profit (in Rupees) for the company C.Which of the two divisions has a larger probability of making a loss in a given year?"
      ],
      "metadata": {
        "id": "J65G8Z8rew0S"
      }
    },
    {
      "cell_type": "code",
      "source": [
        "# Combine Mean Profit of both division for Company= mean1 + mean2\n",
        "mean1 = 5\n",
        "mean2 = 7\n",
        "Mean = (mean1+mean2) # 1 USD = 45 rupees\n",
        "print('The Mean Profit of both division:',Mean, 'Million$')\n",
        "print('The Mean Profit of both division:',(Mean*45)/10, 'Crore Rupees')\n",
        "\n",
        "# Combine standard Deviation = (Std1^2 + Std2^2)^1/2\n",
        "std1 = 3**2\n",
        "std2 = 4**2\n",
        "Std = np.sqrt(std1 + std2)\n",
        "print('The Standard Deviation of both division:', Std, 'Million$')\n",
        "print('The Standard Deviation of both division:', (Std*45)/10, 'Crore Rupees')"
      ],
      "metadata": {
        "colab": {
          "base_uri": "https://localhost:8080/"
        },
        "id": "_RoFL5zCeOuP",
        "outputId": "daf15635-fd52-4106-9a33-ba613ffe6424"
      },
      "execution_count": 32,
      "outputs": [
        {
          "output_type": "stream",
          "name": "stdout",
          "text": [
            "The Mean Profit of both division: 12 Million$\n",
            "The Mean Profit of both division: 54.0 Crore Rupees\n",
            "The Standard Deviation of both division: 5.0 Million$\n",
            "The Standard Deviation of both division: 22.5 Crore Rupees\n"
          ]
        }
      ]
    },
    {
      "cell_type": "markdown",
      "source": [
        "A.Specify a Rupee range (centered on the mean) such that it contains 95% probability for the annual profit of the company."
      ],
      "metadata": {
        "id": "4Fn1zO40j_2l"
      }
    },
    {
      "cell_type": "code",
      "source": [
        "r1, r2 = np.round(stats.norm.interval(0.95, Mean, Std),2)\n",
        "print('Rupee Ranges from',r1,'to',r2,'Million$ in Annual profit of the Company 95% of the time')\n",
        "print('Rupee Ranges from',np.divide(np.multiply(r1,45),10),'to',np.divide(np.multiply(r2,45),10),'Crore Rupeees')"
      ],
      "metadata": {
        "colab": {
          "base_uri": "https://localhost:8080/"
        },
        "id": "5foS19C5j6Wn",
        "outputId": "d93ec69c-846b-474b-f336-dc324c949c97"
      },
      "execution_count": 33,
      "outputs": [
        {
          "output_type": "stream",
          "name": "stdout",
          "text": [
            "Rupee Ranges from 2.2 to 21.8 Million$ in Annual profit of the Company 95% of the time\n",
            "Rupee Ranges from 9.900000000000002 to 98.1 Crore Rupeees\n"
          ]
        }
      ]
    },
    {
      "cell_type": "markdown",
      "source": [
        "B.Specify the 5th percentile of profit (in Rupees) for the company"
      ],
      "metadata": {
        "id": "QWIA16smkEYq"
      }
    },
    {
      "cell_type": "code",
      "source": [
        "# Z value  = X_bar - Mew / Std pop\n",
        "# for percentile, X_percentile = (Zvalue * Std pop) + Mew\n",
        "Z_05_ = stats.norm.ppf(0.05)\n",
        "Fifth_percentile = (Z_05_ * Std) + Mean\n",
        "print('The 5th percentile of Profit for the company is',np.round(Fifth_percentile,2),'Million$')\n",
        "print('The 5th percentile of Profit for the company is',np.round((Fifth_percentile*45)/10,),'Crore Rupees')"
      ],
      "metadata": {
        "colab": {
          "base_uri": "https://localhost:8080/"
        },
        "id": "KRJMEs8zkDmT",
        "outputId": "bdcde1eb-2ec4-4627-8ded-88f05d0ca842"
      },
      "execution_count": 34,
      "outputs": [
        {
          "output_type": "stream",
          "name": "stdout",
          "text": [
            "The 5th percentile of Profit for the company is 3.78 Million$\n",
            "The 5th percentile of Profit for the company is 17.0 Crore Rupees\n"
          ]
        }
      ]
    },
    {
      "cell_type": "markdown",
      "source": [
        "C.Which of the two divisions has a larger probability of making a loss in a given year?"
      ],
      "metadata": {
        "id": "-TUk8ppDkSTG"
      }
    },
    {
      "cell_type": "code",
      "source": [
        "# The probability of Division #1 making a loss\n",
        "print('The Probability of Division #1 making a loss is',np.round((stats.norm.cdf(0,5,3))*100,2),'%')\n",
        "\n",
        "# The probability of Division #2 making a loss\n",
        "print('The Probability of Division #2 making a loss is',np.round((stats.norm.cdf(0,7,4))*100,2),'%')\n",
        "\n",
        "Division_1 = (stats.norm.cdf(0,5,3))*100\n",
        "Division_2 = (stats.norm.cdf(0,7,4))*100\n",
        "\n",
        "if Division_1>Division_2:\n",
        "    print('The Division 1 has a larger Probability of making a loss')\n",
        "else:\n",
        "          print('The Division 2 has a larger Porbability of making a loss')"
      ],
      "metadata": {
        "colab": {
          "base_uri": "https://localhost:8080/"
        },
        "id": "sOnY16eNkL9W",
        "outputId": "238f08cb-8fd3-4a3d-9cb2-e291d1c428c5"
      },
      "execution_count": 35,
      "outputs": [
        {
          "output_type": "stream",
          "name": "stdout",
          "text": [
            "The Probability of Division #1 making a loss is 4.78 %\n",
            "The Probability of Division #2 making a loss is 4.01 %\n",
            "The Division 1 has a larger Probability of making a loss\n"
          ]
        }
      ]
    },
    {
      "cell_type": "markdown",
      "source": [
        "**SET- 4** (CBA: Practice Problem Set 2)"
      ],
      "metadata": {
        "id": "mWSDYasCkZB_"
      }
    },
    {
      "cell_type": "markdown",
      "source": [
        "3.Auditors at a small community bank randomly sample 100 withdrawal transactions made during the week at an ATM machine located near the bank’s main branch. Over the past 2 years, the average withdrawal amount has been\n",
        "50 with standard deviation of 40. Since audit investigations are typically expensive, the auditors decide to not initiate further investigations if the mean transaction amount of the sample is between\n",
        "45 and 55. What is the probability that in any given week, there will be an investigation?\n"
      ],
      "metadata": {
        "id": "fwl75dmVkpuR"
      }
    },
    {
      "cell_type": "code",
      "source": [
        "mean = 50\n",
        "std = 40\n",
        "n = 100\n",
        "d_f = 100 - 1 #degree of freedom\n",
        "#the probability that there will be an investigation,\n",
        "#if the mean transactions amount increases more than 55 USD or less than 45 USD\n",
        "# no investigation if the mean transactions amount remains between 45 to 55 USD\n",
        "\n",
        "# we will go for t-distribution as population standard deviation is unknown\n",
        "t_forty_five = (45-50)/(40/np.sqrt(100))\n",
        "\n",
        "t_fifty_five = (55-50)/(40/np.sqrt(100))\n",
        "\n",
        "forty_five = stats.t.cdf(t_forty_five, df = d_f)\n",
        "\n",
        "fifty_five = stats.t.cdf(t_fifty_five, d_f)\n",
        "\n",
        "prob = fifty_five - forty_five\n",
        "\n",
        "np.round(stats.t.interval(prob, d_f, mean,std/np.sqrt(n)),)\n",
        "\n",
        "print('The probability that in any given week, there will be an investigation is',np.round((1-prob)*100,1),'%')"
      ],
      "metadata": {
        "colab": {
          "base_uri": "https://localhost:8080/"
        },
        "id": "hJ3Q8G3okQV_",
        "outputId": "202e462f-8a6e-48b2-9a0c-fe8100732703"
      },
      "execution_count": 36,
      "outputs": [
        {
          "output_type": "stream",
          "name": "stdout",
          "text": [
            "The probability that in any given week, there will be an investigation is 21.4 %\n"
          ]
        }
      ]
    },
    {
      "cell_type": "markdown",
      "source": [
        "4.The auditors from the above example would like to maintain the probability of investigation to 5%. Which of the following represents the minimum number transactions that they should sample if they do not want to change the thresholds of 45 and 55? Assume that the sample statistics remain unchanged."
      ],
      "metadata": {
        "id": "JWP5vPbglh9X"
      }
    },
    {
      "cell_type": "code",
      "source": [
        "x_bar = 45\n",
        "s_std = 40\n",
        "mew = 50\n",
        "\n",
        "t = np.round(stats.t.ppf(0.025, df = 249),2)\n",
        "t\n",
        "\n",
        "# t_value = (x_bar - mew)/(sample_std/n**0.5)\n",
        "# t = 45-50 or z = 55-50 z = +/- 5\n",
        "\n",
        "# t = 5/(40/n**0.5)\n",
        "# n = (sample_standard_deviation*tscore)/(sample_mean=population_mean)\n",
        "n = ((s_std*abs(t)) / (5))**2\n",
        "\n",
        "print('The Auditors would like to maintain the probability of investigation to 5%, they should sample',np.round(n,),'transactions if they do not want to change the thresholds of 45 to 55')\n",
        "\n",
        "df= n-1\n",
        "print(n, df)\n",
        "\n",
        "np.round(stats.t.interval(0.95, df, mew, scale = s_std/np.sqrt(n)),)"
      ],
      "metadata": {
        "colab": {
          "base_uri": "https://localhost:8080/"
        },
        "id": "hsExWQ2ZlhK_",
        "outputId": "eaaa23bd-d337-4dbf-c3f5-7c803ad317cc"
      },
      "execution_count": 37,
      "outputs": [
        {
          "output_type": "stream",
          "name": "stdout",
          "text": [
            "The Auditors would like to maintain the probability of investigation to 5%, they should sample 248.0 transactions if they do not want to change the thresholds of 45 to 55\n",
            "248.3776 247.3776\n"
          ]
        },
        {
          "output_type": "execute_result",
          "data": {
            "text/plain": [
              "array([45., 55.])"
            ]
          },
          "metadata": {},
          "execution_count": 37
        }
      ]
    },
    {
      "cell_type": "code",
      "source": [],
      "metadata": {
        "id": "t1_zIu5flvKX"
      },
      "execution_count": 37,
      "outputs": []
    }
  ]
}